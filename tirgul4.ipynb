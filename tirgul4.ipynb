{
  "nbformat": 4,
  "nbformat_minor": 0,
  "metadata": {
    "colab": {
      "provenance": [],
      "authorship_tag": "ABX9TyNEpjA3WVC/fdd9iQFTK24D",
      "include_colab_link": true
    },
    "kernelspec": {
      "name": "python3",
      "display_name": "Python 3"
    },
    "language_info": {
      "name": "python"
    },
    "widgets": {
      "application/vnd.jupyter.widget-state+json": {
        "bc2e8c628b45415586abe09e6e197aa5": {
          "model_module": "@jupyter-widgets/controls",
          "model_name": "TabModel",
          "model_module_version": "1.5.0",
          "state": {
            "_dom_classes": [],
            "_model_module": "@jupyter-widgets/controls",
            "_model_module_version": "1.5.0",
            "_model_name": "TabModel",
            "_titles": {
              "0": "Tab 1: Data Overview",
              "1": "Tab 2: Raw Data",
              "2": "Tab 3: Year Count"
            },
            "_view_count": null,
            "_view_module": "@jupyter-widgets/controls",
            "_view_module_version": "1.5.0",
            "_view_name": "TabView",
            "box_style": "",
            "children": [
              "IPY_MODEL_52193e54f6c64724b9ac22bda6caa86f",
              "IPY_MODEL_75c7997e91154f54ad2c9a144ec4368c",
              "IPY_MODEL_160b25b622e744ba805b790a67105b81"
            ],
            "layout": "IPY_MODEL_370613e4f0b94362a8bf33d515ae9d7c",
            "selected_index": 2
          }
        },
        "52193e54f6c64724b9ac22bda6caa86f": {
          "model_module": "@jupyter-widgets/output",
          "model_name": "OutputModel",
          "model_module_version": "1.0.0",
          "state": {
            "_dom_classes": [],
            "_model_module": "@jupyter-widgets/output",
            "_model_module_version": "1.0.0",
            "_model_name": "OutputModel",
            "_view_count": null,
            "_view_module": "@jupyter-widgets/output",
            "_view_module_version": "1.0.0",
            "_view_name": "OutputView",
            "layout": "IPY_MODEL_890fdc3379e14435a4ad01c395c782dc",
            "msg_id": "",
            "outputs": [
              {
                "output_type": "stream",
                "name": "stdout",
                "text": [
                  "Data Overview:\n"
                ]
              },
              {
                "output_type": "display_data",
                "data": {
                  "text/plain": "                                                     help success result\ncount                                                  10      10      9\nunique                                                  1       1      9\ntop     https://data.gov.il/api/3/action/help_show?nam...    True   True\nfreq                                                   10      10      1",
                  "text/html": "\n  <div id=\"df-ec2d707e-7598-4ce6-8c0f-45b40d080e02\" class=\"colab-df-container\">\n    <div>\n<style scoped>\n    .dataframe tbody tr th:only-of-type {\n        vertical-align: middle;\n    }\n\n    .dataframe tbody tr th {\n        vertical-align: top;\n    }\n\n    .dataframe thead th {\n        text-align: right;\n    }\n</style>\n<table border=\"1\" class=\"dataframe\">\n  <thead>\n    <tr style=\"text-align: right;\">\n      <th></th>\n      <th>help</th>\n      <th>success</th>\n      <th>result</th>\n    </tr>\n  </thead>\n  <tbody>\n    <tr>\n      <th>count</th>\n      <td>10</td>\n      <td>10</td>\n      <td>9</td>\n    </tr>\n    <tr>\n      <th>unique</th>\n      <td>1</td>\n      <td>1</td>\n      <td>9</td>\n    </tr>\n    <tr>\n      <th>top</th>\n      <td>https://data.gov.il/api/3/action/help_show?nam...</td>\n      <td>True</td>\n      <td>True</td>\n    </tr>\n    <tr>\n      <th>freq</th>\n      <td>10</td>\n      <td>10</td>\n      <td>1</td>\n    </tr>\n  </tbody>\n</table>\n</div>\n    <div class=\"colab-df-buttons\">\n\n  <div class=\"colab-df-container\">\n    <button class=\"colab-df-convert\" onclick=\"convertToInteractive('df-ec2d707e-7598-4ce6-8c0f-45b40d080e02')\"\n            title=\"Convert this dataframe to an interactive table.\"\n            style=\"display:none;\">\n\n  <svg xmlns=\"http://www.w3.org/2000/svg\" height=\"24px\" viewBox=\"0 -960 960 960\">\n    <path d=\"M120-120v-720h720v720H120Zm60-500h600v-160H180v160Zm220 220h160v-160H400v160Zm0 220h160v-160H400v160ZM180-400h160v-160H180v160Zm440 0h160v-160H620v160ZM180-180h160v-160H180v160Zm440 0h160v-160H620v160Z\"/>\n  </svg>\n    </button>\n\n  <style>\n    .colab-df-container {\n      display:flex;\n      gap: 12px;\n    }\n\n    .colab-df-convert {\n      background-color: #E8F0FE;\n      border: none;\n      border-radius: 50%;\n      cursor: pointer;\n      display: none;\n      fill: #1967D2;\n      height: 32px;\n      padding: 0 0 0 0;\n      width: 32px;\n    }\n\n    .colab-df-convert:hover {\n      background-color: #E2EBFA;\n      box-shadow: 0px 1px 2px rgba(60, 64, 67, 0.3), 0px 1px 3px 1px rgba(60, 64, 67, 0.15);\n      fill: #174EA6;\n    }\n\n    .colab-df-buttons div {\n      margin-bottom: 4px;\n    }\n\n    [theme=dark] .colab-df-convert {\n      background-color: #3B4455;\n      fill: #D2E3FC;\n    }\n\n    [theme=dark] .colab-df-convert:hover {\n      background-color: #434B5C;\n      box-shadow: 0px 1px 3px 1px rgba(0, 0, 0, 0.15);\n      filter: drop-shadow(0px 1px 2px rgba(0, 0, 0, 0.3));\n      fill: #FFFFFF;\n    }\n  </style>\n\n    <script>\n      const buttonEl =\n        document.querySelector('#df-ec2d707e-7598-4ce6-8c0f-45b40d080e02 button.colab-df-convert');\n      buttonEl.style.display =\n        google.colab.kernel.accessAllowed ? 'block' : 'none';\n\n      async function convertToInteractive(key) {\n        const element = document.querySelector('#df-ec2d707e-7598-4ce6-8c0f-45b40d080e02');\n        const dataTable =\n          await google.colab.kernel.invokeFunction('convertToInteractive',\n                                                    [key], {});\n        if (!dataTable) return;\n\n        const docLinkHtml = 'Like what you see? Visit the ' +\n          '<a target=\"_blank\" href=https://colab.research.google.com/notebooks/data_table.ipynb>data table notebook</a>'\n          + ' to learn more about interactive tables.';\n        element.innerHTML = '';\n        dataTable['output_type'] = 'display_data';\n        await google.colab.output.renderOutput(dataTable, element);\n        const docLink = document.createElement('div');\n        docLink.innerHTML = docLinkHtml;\n        element.appendChild(docLink);\n      }\n    </script>\n  </div>\n\n\n<div id=\"df-eebf584d-9cf4-498b-9fa6-48a2677f8019\">\n  <button class=\"colab-df-quickchart\" onclick=\"quickchart('df-eebf584d-9cf4-498b-9fa6-48a2677f8019')\"\n            title=\"Suggest charts\"\n            style=\"display:none;\">\n\n<svg xmlns=\"http://www.w3.org/2000/svg\" height=\"24px\"viewBox=\"0 0 24 24\"\n     width=\"24px\">\n    <g>\n        <path d=\"M19 3H5c-1.1 0-2 .9-2 2v14c0 1.1.9 2 2 2h14c1.1 0 2-.9 2-2V5c0-1.1-.9-2-2-2zM9 17H7v-7h2v7zm4 0h-2V7h2v10zm4 0h-2v-4h2v4z\"/>\n    </g>\n</svg>\n  </button>\n\n<style>\n  .colab-df-quickchart {\n      --bg-color: #E8F0FE;\n      --fill-color: #1967D2;\n      --hover-bg-color: #E2EBFA;\n      --hover-fill-color: #174EA6;\n      --disabled-fill-color: #AAA;\n      --disabled-bg-color: #DDD;\n  }\n\n  [theme=dark] .colab-df-quickchart {\n      --bg-color: #3B4455;\n      --fill-color: #D2E3FC;\n      --hover-bg-color: #434B5C;\n      --hover-fill-color: #FFFFFF;\n      --disabled-bg-color: #3B4455;\n      --disabled-fill-color: #666;\n  }\n\n  .colab-df-quickchart {\n    background-color: var(--bg-color);\n    border: none;\n    border-radius: 50%;\n    cursor: pointer;\n    display: none;\n    fill: var(--fill-color);\n    height: 32px;\n    padding: 0;\n    width: 32px;\n  }\n\n  .colab-df-quickchart:hover {\n    background-color: var(--hover-bg-color);\n    box-shadow: 0 1px 2px rgba(60, 64, 67, 0.3), 0 1px 3px 1px rgba(60, 64, 67, 0.15);\n    fill: var(--button-hover-fill-color);\n  }\n\n  .colab-df-quickchart-complete:disabled,\n  .colab-df-quickchart-complete:disabled:hover {\n    background-color: var(--disabled-bg-color);\n    fill: var(--disabled-fill-color);\n    box-shadow: none;\n  }\n\n  .colab-df-spinner {\n    border: 2px solid var(--fill-color);\n    border-color: transparent;\n    border-bottom-color: var(--fill-color);\n    animation:\n      spin 1s steps(1) infinite;\n  }\n\n  @keyframes spin {\n    0% {\n      border-color: transparent;\n      border-bottom-color: var(--fill-color);\n      border-left-color: var(--fill-color);\n    }\n    20% {\n      border-color: transparent;\n      border-left-color: var(--fill-color);\n      border-top-color: var(--fill-color);\n    }\n    30% {\n      border-color: transparent;\n      border-left-color: var(--fill-color);\n      border-top-color: var(--fill-color);\n      border-right-color: var(--fill-color);\n    }\n    40% {\n      border-color: transparent;\n      border-right-color: var(--fill-color);\n      border-top-color: var(--fill-color);\n    }\n    60% {\n      border-color: transparent;\n      border-right-color: var(--fill-color);\n    }\n    80% {\n      border-color: transparent;\n      border-right-color: var(--fill-color);\n      border-bottom-color: var(--fill-color);\n    }\n    90% {\n      border-color: transparent;\n      border-bottom-color: var(--fill-color);\n    }\n  }\n</style>\n\n  <script>\n    async function quickchart(key) {\n      const quickchartButtonEl =\n        document.querySelector('#' + key + ' button');\n      quickchartButtonEl.disabled = true;  // To prevent multiple clicks.\n      quickchartButtonEl.classList.add('colab-df-spinner');\n      try {\n        const charts = await google.colab.kernel.invokeFunction(\n            'suggestCharts', [key], {});\n      } catch (error) {\n        console.error('Error during call to suggestCharts:', error);\n      }\n      quickchartButtonEl.classList.remove('colab-df-spinner');\n      quickchartButtonEl.classList.add('colab-df-quickchart-complete');\n    }\n    (() => {\n      let quickchartButtonEl =\n        document.querySelector('#df-eebf584d-9cf4-498b-9fa6-48a2677f8019 button');\n      quickchartButtonEl.style.display =\n        google.colab.kernel.accessAllowed ? 'block' : 'none';\n    })();\n  </script>\n</div>\n\n    </div>\n  </div>\n",
                  "application/vnd.google.colaboratory.intrinsic+json": {
                    "type": "dataframe",
                    "summary": "{\n  \"name\": \"display(tabs)\",\n  \"rows\": 4,\n  \"fields\": [\n    {\n      \"column\": \"help\",\n      \"properties\": {\n        \"dtype\": \"string\",\n        \"num_unique_values\": 3,\n        \"samples\": [\n          \"10\",\n          1,\n          \"https://data.gov.il/api/3/action/help_show?name=datastore_search\"\n        ],\n        \"semantic_type\": \"\",\n        \"description\": \"\"\n      }\n    },\n    {\n      \"column\": \"success\",\n      \"properties\": {\n        \"dtype\": \"string\",\n        \"num_unique_values\": 2,\n        \"samples\": [\n          1,\n          \"10\"\n        ],\n        \"semantic_type\": \"\",\n        \"description\": \"\"\n      }\n    },\n    {\n      \"column\": \"result\",\n      \"properties\": {\n        \"dtype\": \"string\",\n        \"num_unique_values\": 2,\n        \"samples\": [\n          true,\n          \"9\"\n        ],\n        \"semantic_type\": \"\",\n        \"description\": \"\"\n      }\n    }\n  ]\n}"
                  }
                },
                "metadata": {}
              }
            ]
          }
        },
        "75c7997e91154f54ad2c9a144ec4368c": {
          "model_module": "@jupyter-widgets/output",
          "model_name": "OutputModel",
          "model_module_version": "1.0.0",
          "state": {
            "_dom_classes": [],
            "_model_module": "@jupyter-widgets/output",
            "_model_module_version": "1.0.0",
            "_model_name": "OutputModel",
            "_view_count": null,
            "_view_module": "@jupyter-widgets/output",
            "_view_module_version": "1.0.0",
            "_view_name": "OutputView",
            "layout": "IPY_MODEL_a3bed4db79a94c15aba835e8d2dc8fb0",
            "msg_id": "",
            "outputs": [
              {
                "output_type": "stream",
                "name": "stdout",
                "text": [
                  "Raw Data:\n"
                ]
              },
              {
                "output_type": "display_data",
                "data": {
                  "text/plain": "                                                                         help  \\\ninclude_total               https://data.gov.il/api/3/action/help_show?nam...   \nlimit                       https://data.gov.il/api/3/action/help_show?nam...   \nrecords_format              https://data.gov.il/api/3/action/help_show?nam...   \nresource_id                 https://data.gov.il/api/3/action/help_show?nam...   \ntotal_estimation_threshold  https://data.gov.il/api/3/action/help_show?nam...   \nrecords                     https://data.gov.il/api/3/action/help_show?nam...   \nfields                      https://data.gov.il/api/3/action/help_show?nam...   \n_links                      https://data.gov.il/api/3/action/help_show?nam...   \ntotal                       https://data.gov.il/api/3/action/help_show?nam...   \ntotal_was_estimated         https://data.gov.il/api/3/action/help_show?nam...   \n\n                            success  \\\ninclude_total                  True   \nlimit                          True   \nrecords_format                 True   \nresource_id                    True   \ntotal_estimation_threshold     True   \nrecords                        True   \nfields                         True   \n_links                         True   \ntotal                          True   \ntotal_was_estimated            True   \n\n                                                                       result  \ninclude_total                                                            True  \nlimit                                                                   32000  \nrecords_format                                                        objects  \nresource_id                              053cea08-09bc-40ec-8f7a-156f0677aff3  \ntotal_estimation_threshold                                               None  \nrecords                     [{'_id': 1, 'mispar_rechev': 2759880, 'tozeret...  \nfields                      [{'id': '_id', 'type': 'int'}, {'id': 'mispar_...  \n_links                      {'start': '/api/3/action/datastore_search?reso...  \ntotal                                                                 3971372  \ntotal_was_estimated                                                     False  ",
                  "text/html": "\n  <div id=\"df-f9e1126b-5fb5-429a-9bdf-9b6368129da6\" class=\"colab-df-container\">\n    <div>\n<style scoped>\n    .dataframe tbody tr th:only-of-type {\n        vertical-align: middle;\n    }\n\n    .dataframe tbody tr th {\n        vertical-align: top;\n    }\n\n    .dataframe thead th {\n        text-align: right;\n    }\n</style>\n<table border=\"1\" class=\"dataframe\">\n  <thead>\n    <tr style=\"text-align: right;\">\n      <th></th>\n      <th>help</th>\n      <th>success</th>\n      <th>result</th>\n    </tr>\n  </thead>\n  <tbody>\n    <tr>\n      <th>include_total</th>\n      <td>https://data.gov.il/api/3/action/help_show?nam...</td>\n      <td>True</td>\n      <td>True</td>\n    </tr>\n    <tr>\n      <th>limit</th>\n      <td>https://data.gov.il/api/3/action/help_show?nam...</td>\n      <td>True</td>\n      <td>32000</td>\n    </tr>\n    <tr>\n      <th>records_format</th>\n      <td>https://data.gov.il/api/3/action/help_show?nam...</td>\n      <td>True</td>\n      <td>objects</td>\n    </tr>\n    <tr>\n      <th>resource_id</th>\n      <td>https://data.gov.il/api/3/action/help_show?nam...</td>\n      <td>True</td>\n      <td>053cea08-09bc-40ec-8f7a-156f0677aff3</td>\n    </tr>\n    <tr>\n      <th>total_estimation_threshold</th>\n      <td>https://data.gov.il/api/3/action/help_show?nam...</td>\n      <td>True</td>\n      <td>None</td>\n    </tr>\n    <tr>\n      <th>records</th>\n      <td>https://data.gov.il/api/3/action/help_show?nam...</td>\n      <td>True</td>\n      <td>[{'_id': 1, 'mispar_rechev': 2759880, 'tozeret...</td>\n    </tr>\n    <tr>\n      <th>fields</th>\n      <td>https://data.gov.il/api/3/action/help_show?nam...</td>\n      <td>True</td>\n      <td>[{'id': '_id', 'type': 'int'}, {'id': 'mispar_...</td>\n    </tr>\n    <tr>\n      <th>_links</th>\n      <td>https://data.gov.il/api/3/action/help_show?nam...</td>\n      <td>True</td>\n      <td>{'start': '/api/3/action/datastore_search?reso...</td>\n    </tr>\n    <tr>\n      <th>total</th>\n      <td>https://data.gov.il/api/3/action/help_show?nam...</td>\n      <td>True</td>\n      <td>3971372</td>\n    </tr>\n    <tr>\n      <th>total_was_estimated</th>\n      <td>https://data.gov.il/api/3/action/help_show?nam...</td>\n      <td>True</td>\n      <td>False</td>\n    </tr>\n  </tbody>\n</table>\n</div>\n    <div class=\"colab-df-buttons\">\n\n  <div class=\"colab-df-container\">\n    <button class=\"colab-df-convert\" onclick=\"convertToInteractive('df-f9e1126b-5fb5-429a-9bdf-9b6368129da6')\"\n            title=\"Convert this dataframe to an interactive table.\"\n            style=\"display:none;\">\n\n  <svg xmlns=\"http://www.w3.org/2000/svg\" height=\"24px\" viewBox=\"0 -960 960 960\">\n    <path d=\"M120-120v-720h720v720H120Zm60-500h600v-160H180v160Zm220 220h160v-160H400v160Zm0 220h160v-160H400v160ZM180-400h160v-160H180v160Zm440 0h160v-160H620v160ZM180-180h160v-160H180v160Zm440 0h160v-160H620v160Z\"/>\n  </svg>\n    </button>\n\n  <style>\n    .colab-df-container {\n      display:flex;\n      gap: 12px;\n    }\n\n    .colab-df-convert {\n      background-color: #E8F0FE;\n      border: none;\n      border-radius: 50%;\n      cursor: pointer;\n      display: none;\n      fill: #1967D2;\n      height: 32px;\n      padding: 0 0 0 0;\n      width: 32px;\n    }\n\n    .colab-df-convert:hover {\n      background-color: #E2EBFA;\n      box-shadow: 0px 1px 2px rgba(60, 64, 67, 0.3), 0px 1px 3px 1px rgba(60, 64, 67, 0.15);\n      fill: #174EA6;\n    }\n\n    .colab-df-buttons div {\n      margin-bottom: 4px;\n    }\n\n    [theme=dark] .colab-df-convert {\n      background-color: #3B4455;\n      fill: #D2E3FC;\n    }\n\n    [theme=dark] .colab-df-convert:hover {\n      background-color: #434B5C;\n      box-shadow: 0px 1px 3px 1px rgba(0, 0, 0, 0.15);\n      filter: drop-shadow(0px 1px 2px rgba(0, 0, 0, 0.3));\n      fill: #FFFFFF;\n    }\n  </style>\n\n    <script>\n      const buttonEl =\n        document.querySelector('#df-f9e1126b-5fb5-429a-9bdf-9b6368129da6 button.colab-df-convert');\n      buttonEl.style.display =\n        google.colab.kernel.accessAllowed ? 'block' : 'none';\n\n      async function convertToInteractive(key) {\n        const element = document.querySelector('#df-f9e1126b-5fb5-429a-9bdf-9b6368129da6');\n        const dataTable =\n          await google.colab.kernel.invokeFunction('convertToInteractive',\n                                                    [key], {});\n        if (!dataTable) return;\n\n        const docLinkHtml = 'Like what you see? Visit the ' +\n          '<a target=\"_blank\" href=https://colab.research.google.com/notebooks/data_table.ipynb>data table notebook</a>'\n          + ' to learn more about interactive tables.';\n        element.innerHTML = '';\n        dataTable['output_type'] = 'display_data';\n        await google.colab.output.renderOutput(dataTable, element);\n        const docLink = document.createElement('div');\n        docLink.innerHTML = docLinkHtml;\n        element.appendChild(docLink);\n      }\n    </script>\n  </div>\n\n\n<div id=\"df-dc071563-6c24-4d82-9e8d-95c64cc96525\">\n  <button class=\"colab-df-quickchart\" onclick=\"quickchart('df-dc071563-6c24-4d82-9e8d-95c64cc96525')\"\n            title=\"Suggest charts\"\n            style=\"display:none;\">\n\n<svg xmlns=\"http://www.w3.org/2000/svg\" height=\"24px\"viewBox=\"0 0 24 24\"\n     width=\"24px\">\n    <g>\n        <path d=\"M19 3H5c-1.1 0-2 .9-2 2v14c0 1.1.9 2 2 2h14c1.1 0 2-.9 2-2V5c0-1.1-.9-2-2-2zM9 17H7v-7h2v7zm4 0h-2V7h2v10zm4 0h-2v-4h2v4z\"/>\n    </g>\n</svg>\n  </button>\n\n<style>\n  .colab-df-quickchart {\n      --bg-color: #E8F0FE;\n      --fill-color: #1967D2;\n      --hover-bg-color: #E2EBFA;\n      --hover-fill-color: #174EA6;\n      --disabled-fill-color: #AAA;\n      --disabled-bg-color: #DDD;\n  }\n\n  [theme=dark] .colab-df-quickchart {\n      --bg-color: #3B4455;\n      --fill-color: #D2E3FC;\n      --hover-bg-color: #434B5C;\n      --hover-fill-color: #FFFFFF;\n      --disabled-bg-color: #3B4455;\n      --disabled-fill-color: #666;\n  }\n\n  .colab-df-quickchart {\n    background-color: var(--bg-color);\n    border: none;\n    border-radius: 50%;\n    cursor: pointer;\n    display: none;\n    fill: var(--fill-color);\n    height: 32px;\n    padding: 0;\n    width: 32px;\n  }\n\n  .colab-df-quickchart:hover {\n    background-color: var(--hover-bg-color);\n    box-shadow: 0 1px 2px rgba(60, 64, 67, 0.3), 0 1px 3px 1px rgba(60, 64, 67, 0.15);\n    fill: var(--button-hover-fill-color);\n  }\n\n  .colab-df-quickchart-complete:disabled,\n  .colab-df-quickchart-complete:disabled:hover {\n    background-color: var(--disabled-bg-color);\n    fill: var(--disabled-fill-color);\n    box-shadow: none;\n  }\n\n  .colab-df-spinner {\n    border: 2px solid var(--fill-color);\n    border-color: transparent;\n    border-bottom-color: var(--fill-color);\n    animation:\n      spin 1s steps(1) infinite;\n  }\n\n  @keyframes spin {\n    0% {\n      border-color: transparent;\n      border-bottom-color: var(--fill-color);\n      border-left-color: var(--fill-color);\n    }\n    20% {\n      border-color: transparent;\n      border-left-color: var(--fill-color);\n      border-top-color: var(--fill-color);\n    }\n    30% {\n      border-color: transparent;\n      border-left-color: var(--fill-color);\n      border-top-color: var(--fill-color);\n      border-right-color: var(--fill-color);\n    }\n    40% {\n      border-color: transparent;\n      border-right-color: var(--fill-color);\n      border-top-color: var(--fill-color);\n    }\n    60% {\n      border-color: transparent;\n      border-right-color: var(--fill-color);\n    }\n    80% {\n      border-color: transparent;\n      border-right-color: var(--fill-color);\n      border-bottom-color: var(--fill-color);\n    }\n    90% {\n      border-color: transparent;\n      border-bottom-color: var(--fill-color);\n    }\n  }\n</style>\n\n  <script>\n    async function quickchart(key) {\n      const quickchartButtonEl =\n        document.querySelector('#' + key + ' button');\n      quickchartButtonEl.disabled = true;  // To prevent multiple clicks.\n      quickchartButtonEl.classList.add('colab-df-spinner');\n      try {\n        const charts = await google.colab.kernel.invokeFunction(\n            'suggestCharts', [key], {});\n      } catch (error) {\n        console.error('Error during call to suggestCharts:', error);\n      }\n      quickchartButtonEl.classList.remove('colab-df-spinner');\n      quickchartButtonEl.classList.add('colab-df-quickchart-complete');\n    }\n    (() => {\n      let quickchartButtonEl =\n        document.querySelector('#df-dc071563-6c24-4d82-9e8d-95c64cc96525 button');\n      quickchartButtonEl.style.display =\n        google.colab.kernel.accessAllowed ? 'block' : 'none';\n    })();\n  </script>\n</div>\n\n  <div id=\"id_31f32dfd-683f-4c88-abdd-997497955c98\">\n    <style>\n      .colab-df-generate {\n        background-color: #E8F0FE;\n        border: none;\n        border-radius: 50%;\n        cursor: pointer;\n        display: none;\n        fill: #1967D2;\n        height: 32px;\n        padding: 0 0 0 0;\n        width: 32px;\n      }\n\n      .colab-df-generate:hover {\n        background-color: #E2EBFA;\n        box-shadow: 0px 1px 2px rgba(60, 64, 67, 0.3), 0px 1px 3px 1px rgba(60, 64, 67, 0.15);\n        fill: #174EA6;\n      }\n\n      [theme=dark] .colab-df-generate {\n        background-color: #3B4455;\n        fill: #D2E3FC;\n      }\n\n      [theme=dark] .colab-df-generate:hover {\n        background-color: #434B5C;\n        box-shadow: 0px 1px 3px 1px rgba(0, 0, 0, 0.15);\n        filter: drop-shadow(0px 1px 2px rgba(0, 0, 0, 0.3));\n        fill: #FFFFFF;\n      }\n    </style>\n    <button class=\"colab-df-generate\" onclick=\"generateWithVariable('df')\"\n            title=\"Generate code using this dataframe.\"\n            style=\"display:none;\">\n\n  <svg xmlns=\"http://www.w3.org/2000/svg\" height=\"24px\"viewBox=\"0 0 24 24\"\n       width=\"24px\">\n    <path d=\"M7,19H8.4L18.45,9,17,7.55,7,17.6ZM5,21V16.75L18.45,3.32a2,2,0,0,1,2.83,0l1.4,1.43a1.91,1.91,0,0,1,.58,1.4,1.91,1.91,0,0,1-.58,1.4L9.25,21ZM18.45,9,17,7.55Zm-12,3A5.31,5.31,0,0,0,4.9,8.1,5.31,5.31,0,0,0,1,6.5,5.31,5.31,0,0,0,4.9,4.9,5.31,5.31,0,0,0,6.5,1,5.31,5.31,0,0,0,8.1,4.9,5.31,5.31,0,0,0,12,6.5,5.46,5.46,0,0,0,6.5,12Z\"/>\n  </svg>\n    </button>\n    <script>\n      (() => {\n      const buttonEl =\n        document.querySelector('#id_31f32dfd-683f-4c88-abdd-997497955c98 button.colab-df-generate');\n      buttonEl.style.display =\n        google.colab.kernel.accessAllowed ? 'block' : 'none';\n\n      buttonEl.onclick = () => {\n        google.colab.notebook.generateWithVariable('df');\n      }\n      })();\n    </script>\n  </div>\n\n    </div>\n  </div>\n",
                  "application/vnd.google.colaboratory.intrinsic+json": {
                    "type": "dataframe",
                    "variable_name": "df",
                    "summary": "{\n  \"name\": \"df\",\n  \"rows\": 10,\n  \"fields\": [\n    {\n      \"column\": \"help\",\n      \"properties\": {\n        \"dtype\": \"category\",\n        \"num_unique_values\": 1,\n        \"samples\": [\n          \"https://data.gov.il/api/3/action/help_show?name=datastore_search\"\n        ],\n        \"semantic_type\": \"\",\n        \"description\": \"\"\n      }\n    },\n    {\n      \"column\": \"success\",\n      \"properties\": {\n        \"dtype\": \"boolean\",\n        \"num_unique_values\": 1,\n        \"samples\": [\n          true\n        ],\n        \"semantic_type\": \"\",\n        \"description\": \"\"\n      }\n    },\n    {\n      \"column\": \"result\",\n      \"properties\": {\n        \"dtype\": \"object\",\n        \"semantic_type\": \"\",\n        \"description\": \"\"\n      }\n    }\n  ]\n}"
                  }
                },
                "metadata": {}
              }
            ]
          }
        },
        "160b25b622e744ba805b790a67105b81": {
          "model_module": "@jupyter-widgets/output",
          "model_name": "OutputModel",
          "model_module_version": "1.0.0",
          "state": {
            "_dom_classes": [],
            "_model_module": "@jupyter-widgets/output",
            "_model_module_version": "1.0.0",
            "_model_name": "OutputModel",
            "_view_count": null,
            "_view_module": "@jupyter-widgets/output",
            "_view_module_version": "1.0.0",
            "_view_name": "OutputView",
            "layout": "IPY_MODEL_781eb9216e4644d9a6b996a84808fee1",
            "msg_id": "",
            "outputs": [
              {
                "output_type": "stream",
                "name": "stdout",
                "text": [
                  "Year Count:\n"
                ]
              },
              {
                "output_type": "display_data",
                "data": {
                  "text/plain": "<Figure size 640x480 with 0 Axes>"
                },
                "metadata": {}
              },
              {
                "output_type": "display_data",
                "data": {
                  "text/plain": "<Figure size 1200x600 with 1 Axes>",
                  "image/png": "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\n"
                },
                "metadata": {}
              }
            ]
          }
        },
        "370613e4f0b94362a8bf33d515ae9d7c": {
          "model_module": "@jupyter-widgets/base",
          "model_name": "LayoutModel",
          "model_module_version": "1.2.0",
          "state": {
            "_model_module": "@jupyter-widgets/base",
            "_model_module_version": "1.2.0",
            "_model_name": "LayoutModel",
            "_view_count": null,
            "_view_module": "@jupyter-widgets/base",
            "_view_module_version": "1.2.0",
            "_view_name": "LayoutView",
            "align_content": null,
            "align_items": null,
            "align_self": null,
            "border": null,
            "bottom": null,
            "display": null,
            "flex": null,
            "flex_flow": null,
            "grid_area": null,
            "grid_auto_columns": null,
            "grid_auto_flow": null,
            "grid_auto_rows": null,
            "grid_column": null,
            "grid_gap": null,
            "grid_row": null,
            "grid_template_areas": null,
            "grid_template_columns": null,
            "grid_template_rows": null,
            "height": null,
            "justify_content": null,
            "justify_items": null,
            "left": null,
            "margin": null,
            "max_height": null,
            "max_width": null,
            "min_height": null,
            "min_width": null,
            "object_fit": null,
            "object_position": null,
            "order": null,
            "overflow": null,
            "overflow_x": null,
            "overflow_y": null,
            "padding": null,
            "right": null,
            "top": null,
            "visibility": null,
            "width": null
          }
        },
        "890fdc3379e14435a4ad01c395c782dc": {
          "model_module": "@jupyter-widgets/base",
          "model_name": "LayoutModel",
          "model_module_version": "1.2.0",
          "state": {
            "_model_module": "@jupyter-widgets/base",
            "_model_module_version": "1.2.0",
            "_model_name": "LayoutModel",
            "_view_count": null,
            "_view_module": "@jupyter-widgets/base",
            "_view_module_version": "1.2.0",
            "_view_name": "LayoutView",
            "align_content": null,
            "align_items": null,
            "align_self": null,
            "border": null,
            "bottom": null,
            "display": null,
            "flex": null,
            "flex_flow": null,
            "grid_area": null,
            "grid_auto_columns": null,
            "grid_auto_flow": null,
            "grid_auto_rows": null,
            "grid_column": null,
            "grid_gap": null,
            "grid_row": null,
            "grid_template_areas": null,
            "grid_template_columns": null,
            "grid_template_rows": null,
            "height": null,
            "justify_content": null,
            "justify_items": null,
            "left": null,
            "margin": null,
            "max_height": null,
            "max_width": null,
            "min_height": null,
            "min_width": null,
            "object_fit": null,
            "object_position": null,
            "order": null,
            "overflow": null,
            "overflow_x": null,
            "overflow_y": null,
            "padding": null,
            "right": null,
            "top": null,
            "visibility": null,
            "width": null
          }
        },
        "a3bed4db79a94c15aba835e8d2dc8fb0": {
          "model_module": "@jupyter-widgets/base",
          "model_name": "LayoutModel",
          "model_module_version": "1.2.0",
          "state": {
            "_model_module": "@jupyter-widgets/base",
            "_model_module_version": "1.2.0",
            "_model_name": "LayoutModel",
            "_view_count": null,
            "_view_module": "@jupyter-widgets/base",
            "_view_module_version": "1.2.0",
            "_view_name": "LayoutView",
            "align_content": null,
            "align_items": null,
            "align_self": null,
            "border": null,
            "bottom": null,
            "display": null,
            "flex": null,
            "flex_flow": null,
            "grid_area": null,
            "grid_auto_columns": null,
            "grid_auto_flow": null,
            "grid_auto_rows": null,
            "grid_column": null,
            "grid_gap": null,
            "grid_row": null,
            "grid_template_areas": null,
            "grid_template_columns": null,
            "grid_template_rows": null,
            "height": null,
            "justify_content": null,
            "justify_items": null,
            "left": null,
            "margin": null,
            "max_height": null,
            "max_width": null,
            "min_height": null,
            "min_width": null,
            "object_fit": null,
            "object_position": null,
            "order": null,
            "overflow": null,
            "overflow_x": null,
            "overflow_y": null,
            "padding": null,
            "right": null,
            "top": null,
            "visibility": null,
            "width": null
          }
        },
        "781eb9216e4644d9a6b996a84808fee1": {
          "model_module": "@jupyter-widgets/base",
          "model_name": "LayoutModel",
          "model_module_version": "1.2.0",
          "state": {
            "_model_module": "@jupyter-widgets/base",
            "_model_module_version": "1.2.0",
            "_model_name": "LayoutModel",
            "_view_count": null,
            "_view_module": "@jupyter-widgets/base",
            "_view_module_version": "1.2.0",
            "_view_name": "LayoutView",
            "align_content": null,
            "align_items": null,
            "align_self": null,
            "border": null,
            "bottom": null,
            "display": null,
            "flex": null,
            "flex_flow": null,
            "grid_area": null,
            "grid_auto_columns": null,
            "grid_auto_flow": null,
            "grid_auto_rows": null,
            "grid_column": null,
            "grid_gap": null,
            "grid_row": null,
            "grid_template_areas": null,
            "grid_template_columns": null,
            "grid_template_rows": null,
            "height": null,
            "justify_content": null,
            "justify_items": null,
            "left": null,
            "margin": null,
            "max_height": null,
            "max_width": null,
            "min_height": null,
            "min_width": null,
            "object_fit": null,
            "object_position": null,
            "order": null,
            "overflow": null,
            "overflow_x": null,
            "overflow_y": null,
            "padding": null,
            "right": null,
            "top": null,
            "visibility": null,
            "width": null
          }
        }
      }
    }
  },
  "cells": [
    {
      "cell_type": "markdown",
      "metadata": {
        "id": "view-in-github",
        "colab_type": "text"
      },
      "source": [
        "<a href=\"https://colab.research.google.com/github/Manal2308/ananRepostiry/blob/main/tirgul4.ipynb\" target=\"_parent\"><img src=\"https://colab.research.google.com/assets/colab-badge.svg\" alt=\"Open In Colab\"/></a>"
      ]
    },
    {
      "cell_type": "code",
      "execution_count": null,
      "metadata": {
        "colab": {
          "base_uri": "https://localhost:8080/",
          "height": 557,
          "referenced_widgets": [
            "bc2e8c628b45415586abe09e6e197aa5",
            "52193e54f6c64724b9ac22bda6caa86f",
            "75c7997e91154f54ad2c9a144ec4368c",
            "160b25b622e744ba805b790a67105b81",
            "370613e4f0b94362a8bf33d515ae9d7c",
            "890fdc3379e14435a4ad01c395c782dc",
            "a3bed4db79a94c15aba835e8d2dc8fb0",
            "781eb9216e4644d9a6b996a84808fee1"
          ]
        },
        "id": "ys9YaDUh9qOf",
        "outputId": "10e58f5f-5d17-4af2-822f-b70021e312bb"
      },
      "outputs": [
        {
          "output_type": "display_data",
          "data": {
            "text/plain": [
              "Tab(children=(Output(), Output(), Output()), _titles={'0': 'Tab 1: Data Overview', '1': 'Tab 2: Raw Data', '2'…"
            ],
            "application/vnd.jupyter.widget-view+json": {
              "version_major": 2,
              "version_minor": 0,
              "model_id": "bc2e8c628b45415586abe09e6e197aa5"
            }
          },
          "metadata": {}
        }
      ],
      "source": [
        "url = 'https://data.gov.il/api/3/action/datastore_search?resource_id=053cea08-09bc-40ec-8f7a-156f0677aff3'\n",
        "\n",
        "import requests\n",
        "import plotly.express as px\n",
        "import matplotlib.pyplot as plt\n",
        "import pandas as pd\n",
        "from ipywidgets import widgets, VBox, Output\n",
        "from IPython.display import display\n",
        "\n",
        "pd.set_option(\"display.max_columns\", None)\n",
        "\n",
        "response = requests.get(url)\n",
        "data = response.json()\n",
        "df = pd.DataFrame(data)\n",
        "\n",
        "data_df = pd.DataFrame(data['result']['records'])\n",
        "\n",
        "# Tab 1: Data Overview\n",
        "tab1_content = widgets.Output()\n",
        "with tab1_content:\n",
        "    print(\"Data Overview:\")\n",
        "    display(df.describe())  # Summary statistics\n",
        "\n",
        "# Tab 2: Raw Data\n",
        "tab2_content = widgets.Output()\n",
        "with tab2_content:\n",
        "    print(\"Raw Data:\")\n",
        "    display(df)  # Full DataFrame\n",
        "# Tab 3: Charts\n",
        "tab3_content = widgets.Output()\n",
        "with tab3_content:\n",
        "    print(\"Year Count:\")\n",
        "    plt.clf()  # Clear the current figure\n",
        "    shnat_yitzur=data_df['shnat_yitzur']\n",
        "    count_cars = {}\n",
        "\n",
        "    for year in shnat_yitzur:\n",
        "            count_cars[year] = 0\n",
        "\n",
        "\n",
        "    for year in shnat_yitzur:\n",
        "        if year in count_cars:\n",
        "            count_cars[year] += 1\n",
        "    years = list(count_cars.keys())\n",
        "    counts = list(count_cars.values())\n",
        "\n",
        "\n",
        "    plt.figure(figsize=(12, 6))\n",
        "    plt.bar(years, counts)\n",
        "    plt.title('The number of different cars produced each year')\n",
        "    plt.xlabel('Year')\n",
        "    plt.ylabel('Number Of Cars')\n",
        "    plt.show()  # Add this to display the plot\n",
        "    plt.close()  # Close the figure to free memory\n",
        "\n",
        "\n",
        "# Create Tabs\n",
        "tabs = widgets.Tab(children=[tab1_content, tab2_content,tab3_content])\n",
        "tabs.set_title(0, 'Tab 1: Data Overview')\n",
        "tabs.set_title(1, 'Tab 2: Raw Data')\n",
        "tabs.set_title(2, 'Tab 3: Year Count')\n",
        "\n",
        "\n",
        "\n",
        "# Display Tabs\n",
        "display(tabs)\n"
      ]
    }
  ]
}