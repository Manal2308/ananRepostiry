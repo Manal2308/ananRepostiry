{
  "nbformat": 4,
  "nbformat_minor": 0,
  "metadata": {
    "colab": {
      "provenance": [],
      "authorship_tag": "ABX9TyN048ax6kZ9YEj/qV2htT2B",
      "include_colab_link": true
    },
    "kernelspec": {
      "name": "python3",
      "display_name": "Python 3"
    },
    "language_info": {
      "name": "python"
    },
    "widgets": {
      "application/vnd.jupyter.widget-state+json": {
        "a682bfedb27545d6b7e74d4ccce118bc": {
          "model_module": "@jupyter-widgets/controls",
          "model_name": "ButtonModel",
          "model_module_version": "1.5.0",
          "state": {
            "_dom_classes": [],
            "_model_module": "@jupyter-widgets/controls",
            "_model_module_version": "1.5.0",
            "_model_name": "ButtonModel",
            "_view_count": null,
            "_view_module": "@jupyter-widgets/controls",
            "_view_module_version": "1.5.0",
            "_view_name": "ButtonView",
            "button_style": "",
            "description": "Save Favorite Program!",
            "disabled": false,
            "icon": "",
            "layout": "IPY_MODEL_a334546487fb4aef886b1d0b42bfdf52",
            "style": "IPY_MODEL_7a3a91707e8c4c79b92d4ef9c1f89fbb",
            "tooltip": ""
          }
        },
        "a334546487fb4aef886b1d0b42bfdf52": {
          "model_module": "@jupyter-widgets/base",
          "model_name": "LayoutModel",
          "model_module_version": "1.2.0",
          "state": {
            "_model_module": "@jupyter-widgets/base",
            "_model_module_version": "1.2.0",
            "_model_name": "LayoutModel",
            "_view_count": null,
            "_view_module": "@jupyter-widgets/base",
            "_view_module_version": "1.2.0",
            "_view_name": "LayoutView",
            "align_content": null,
            "align_items": null,
            "align_self": null,
            "border": null,
            "bottom": null,
            "display": null,
            "flex": null,
            "flex_flow": null,
            "grid_area": null,
            "grid_auto_columns": null,
            "grid_auto_flow": null,
            "grid_auto_rows": null,
            "grid_column": null,
            "grid_gap": null,
            "grid_row": null,
            "grid_template_areas": null,
            "grid_template_columns": null,
            "grid_template_rows": null,
            "height": null,
            "justify_content": null,
            "justify_items": null,
            "left": null,
            "margin": null,
            "max_height": null,
            "max_width": null,
            "min_height": null,
            "min_width": null,
            "object_fit": null,
            "object_position": null,
            "order": null,
            "overflow": null,
            "overflow_x": null,
            "overflow_y": null,
            "padding": null,
            "right": null,
            "top": null,
            "visibility": null,
            "width": null
          }
        },
        "7a3a91707e8c4c79b92d4ef9c1f89fbb": {
          "model_module": "@jupyter-widgets/controls",
          "model_name": "ButtonStyleModel",
          "model_module_version": "1.5.0",
          "state": {
            "_model_module": "@jupyter-widgets/controls",
            "_model_module_version": "1.5.0",
            "_model_name": "ButtonStyleModel",
            "_view_count": null,
            "_view_module": "@jupyter-widgets/base",
            "_view_module_version": "1.2.0",
            "_view_name": "StyleView",
            "button_color": null,
            "font_weight": ""
          }
        }
      }
    }
  },
  "cells": [
    {
      "cell_type": "markdown",
      "metadata": {
        "id": "view-in-github",
        "colab_type": "text"
      },
      "source": [
        "<a href=\"https://colab.research.google.com/github/Manal2308/ananRepostiry/blob/main/tirgul1.ipynb\" target=\"_parent\"><img src=\"https://colab.research.google.com/assets/colab-badge.svg\" alt=\"Open In Colab\"/></a>"
      ]
    },
    {
      "cell_type": "code",
      "source": [
        "import ipywidgets as widgets\n",
        "from IPython.display import display\n",
        "\n",
        "Name = 'Nahla' #@param [\"Manal\", \"Fatma\", \"Nahla\",\"Mohamad\"]\n",
        "\n",
        "with open('students.txt','r') as file:\n",
        "  lines = file.readlines()\n",
        "  for line in lines:\n",
        "    if line.startswith(Name):\n",
        "        student_info = line.strip()\n",
        "        print(line.strip())\n",
        "        break\n",
        "\n",
        "Favorite_Program = '89655' #@param {type:\"string\"}\n",
        "button = widgets.Button(description=\"Save Favorite Program!\")\n",
        "favorite_program = Favorite_Program.strip()\n",
        "selected_name = Name.strip()\n",
        "\n",
        "def on_button_clicked(button):\n",
        "  # Display the message within the output widget.\n",
        "    with open('students.txt', 'a') as file:\n",
        "      file.write(f\"\\n{student_info}, Favorite Program: {favorite_program}\")\n",
        "button.on_click(on_button_clicked)\n",
        "display(button)\n",
        "\n"
      ],
      "metadata": {
        "colab": {
          "base_uri": "https://localhost:8080/",
          "height": 86,
          "referenced_widgets": [
            "a682bfedb27545d6b7e74d4ccce118bc",
            "a334546487fb4aef886b1d0b42bfdf52",
            "7a3a91707e8c4c79b92d4ef9c1f89fbb"
          ]
        },
        "id": "ldN288EF4inl",
        "outputId": "aff6f018-81cf-42be-d535-43d20607a677"
      },
      "execution_count": 33,
      "outputs": [
        {
          "output_type": "stream",
          "name": "stdout",
          "text": [
            "Nahla, aburome , nahla.aburome@e.braude.ac.il ,{פיזיקה,בינה מלאכותית,מבוא למחשוב ענן,תורת קימפולציה},https://eceeq.org/\n"
          ]
        },
        {
          "output_type": "display_data",
          "data": {
            "text/plain": [
              "Button(description='Save Favorite Program!', style=ButtonStyle())"
            ],
            "application/vnd.jupyter.widget-view+json": {
              "version_major": 2,
              "version_minor": 0,
              "model_id": "a682bfedb27545d6b7e74d4ccce118bc"
            }
          },
          "metadata": {}
        }
      ]
    }
  ]
}